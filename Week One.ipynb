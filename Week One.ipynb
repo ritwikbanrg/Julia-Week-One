{
 "cells": [
  {
   "cell_type": "markdown",
   "metadata": {},
   "source": [
    "All my practice code for Julia, from Week 1 of learning Julia"
   ]
  },
  {
   "cell_type": "code",
   "execution_count": 1,
   "metadata": {},
   "outputs": [
    {
     "data": {
      "text/plain": [
       "56.76"
      ]
     },
     "execution_count": 1,
     "metadata": {},
     "output_type": "execute_result"
    }
   ],
   "source": [
    "100-43.24"
   ]
  },
  {
   "cell_type": "code",
   "execution_count": 1,
   "metadata": {},
   "outputs": [
    {
     "name": "stdout",
     "output_type": "stream",
     "text": [
      "REPL\n"
     ]
    }
   ],
   "source": [
    "println(\"REPL\")"
   ]
  },
  {
   "cell_type": "code",
   "execution_count": 5,
   "metadata": {},
   "outputs": [
    {
     "name": "stdout",
     "output_type": "stream",
     "text": [
      "HelloWorldWorldWorld\n",
      "HelloWorldHelloWorldHelloWorld\n"
     ]
    }
   ],
   "source": [
    "println(\"Hello\"* \"World\"^3)\n",
    "println((\"Hello\"*\"World\")^3)"
   ]
  },
  {
   "cell_type": "code",
   "execution_count": 3,
   "metadata": {},
   "outputs": [
    {
     "data": {
      "text/plain": [
       "true"
      ]
     },
     "execution_count": 3,
     "metadata": {},
     "output_type": "execute_result"
    }
   ],
   "source": [
    "!(2>7)"
   ]
  },
  {
   "cell_type": "code",
   "execution_count": 6,
   "metadata": {},
   "outputs": [
    {
     "data": {
      "text/plain": [
       "4.0"
      ]
     },
     "execution_count": 6,
     "metadata": {},
     "output_type": "execute_result"
    }
   ],
   "source": [
    "2^2^1^1.3^1.5^1.7^20"
   ]
  },
  {
   "cell_type": "code",
   "execution_count": 3,
   "metadata": {},
   "outputs": [
    {
     "data": {
      "text/plain": [
       "\"α\""
      ]
     },
     "execution_count": 3,
     "metadata": {},
     "output_type": "execute_result"
    }
   ],
   "source": [
    "\"α\" #write \\alpha and then press tab"
   ]
  },
  {
   "cell_type": "code",
   "execution_count": 2,
   "metadata": {},
   "outputs": [
    {
     "data": {
      "text/plain": [
       "3×5 Array{Int64,2}:\n",
       " 139755732779048  139755732779048  …  139755732779048  139754926576816\n",
       " 139755732779048  139755732779048     139755732779048  139754926576896\n",
       " 139754926576496  139755732779048     139755732779048  139754926576976"
      ]
     },
     "execution_count": 2,
     "metadata": {},
     "output_type": "execute_result"
    }
   ],
   "source": [
    "Array(Int64,3,5)"
   ]
  },
  {
   "cell_type": "code",
   "execution_count": 4,
   "metadata": {},
   "outputs": [
    {
     "name": "stdout",
     "output_type": "stream",
     "text": [
      "search: \u001b[1mw\u001b[22m\u001b[1mh\u001b[22m\u001b[1mi\u001b[22m\u001b[1ml\u001b[22m\u001b[1me\u001b[22m \u001b[1mw\u001b[22matc\u001b[1mh\u001b[22m_f\u001b[1mi\u001b[22m\u001b[1ml\u001b[22m\u001b[1me\u001b[22m\n",
      "\n"
     ]
    },
    {
     "data": {
      "text/markdown": [
       "`while` loops repeatedly evaluate a conditional expression, and continues evaluating the body of the while loop so long as the expression remains `true`. If the condition expression is false when the while loop is first reached, the body is never evaluated. For example:\n",
       "\n",
       "```\n",
       "while i <= 5\n",
       "    println(i)\n",
       "    i += 1\n",
       "end\n",
       "```\n"
      ],
      "text/plain": [
       "`while` loops repeatedly evaluate a conditional expression, and continues evaluating the body of the while loop so long as the expression remains `true`. If the condition expression is false when the while loop is first reached, the body is never evaluated. For example:\n",
       "\n",
       "```\n",
       "while i <= 5\n",
       "    println(i)\n",
       "    i += 1\n",
       "end\n",
       "```\n"
      ]
     },
     "execution_count": 4,
     "metadata": {},
     "output_type": "execute_result"
    }
   ],
   "source": [
    "? while"
   ]
  },
  {
   "cell_type": "code",
   "execution_count": 8,
   "metadata": {},
   "outputs": [
    {
     "name": "stdout",
     "output_type": "stream",
     "text": [
      "search: \u001b[1ms\u001b[22m\u001b[1mi\u001b[22m\u001b[1mz\u001b[22m\u001b[1me\u001b[22m \u001b[1ms\u001b[22m\u001b[1mi\u001b[22m\u001b[1mz\u001b[22m\u001b[1me\u001b[22mof \u001b[1ms\u001b[22m\u001b[1mi\u001b[22m\u001b[1mz\u001b[22m\u001b[1me\u001b[22mhint! C\u001b[1ms\u001b[22m\u001b[1mi\u001b[22m\u001b[1mz\u001b[22m\u001b[1me\u001b[22m_t re\u001b[1ms\u001b[22m\u001b[1mi\u001b[22m\u001b[1mz\u001b[22m\u001b[1me\u001b[22m! file\u001b[1ms\u001b[22m\u001b[1mi\u001b[22m\u001b[1mz\u001b[22m\u001b[1me\u001b[22m C\u001b[1ms\u001b[22ms\u001b[1mi\u001b[22m\u001b[1mz\u001b[22m\u001b[1me\u001b[22m_t \u001b[1ms\u001b[22mer\u001b[1mi\u001b[22mali\u001b[1mz\u001b[22m\u001b[1me\u001b[22m\n",
      "\n"
     ]
    },
    {
     "data": {
      "text/markdown": [
       "```\n",
       "size(A::AbstractArray, [dim...])\n",
       "```\n",
       "\n",
       "Returns a tuple containing the dimensions of `A`. Optionally you can specify the dimension(s) you want the length of, and get the length of that dimension, or a tuple of the lengths of dimensions you asked for.\n",
       "\n",
       "```jldoctest\n",
       "julia> A = ones(2,3,4);\n",
       "\n",
       "julia> size(A, 2)\n",
       "3\n",
       "\n",
       "julia> size(A,3,2)\n",
       "(4, 3)\n",
       "```\n"
      ],
      "text/plain": [
       "```\n",
       "size(A::AbstractArray, [dim...])\n",
       "```\n",
       "\n",
       "Returns a tuple containing the dimensions of `A`. Optionally you can specify the dimension(s) you want the length of, and get the length of that dimension, or a tuple of the lengths of dimensions you asked for.\n",
       "\n",
       "```jldoctest\n",
       "julia> A = ones(2,3,4);\n",
       "\n",
       "julia> size(A, 2)\n",
       "3\n",
       "\n",
       "julia> size(A,3,2)\n",
       "(4, 3)\n",
       "```\n"
      ]
     },
     "execution_count": 8,
     "metadata": {},
     "output_type": "execute_result"
    }
   ],
   "source": [
    "? size"
   ]
  },
  {
   "cell_type": "code",
   "execution_count": 11,
   "metadata": {},
   "outputs": [
    {
     "data": {
      "text/plain": [
       "63"
      ]
     },
     "execution_count": 11,
     "metadata": {},
     "output_type": "execute_result"
    }
   ],
   "source": [
    "myfunc(a)=7*a\n",
    "myfunc(9)"
   ]
  },
  {
   "cell_type": "code",
   "execution_count": 13,
   "metadata": {},
   "outputs": [
    {
     "name": "stdout",
     "output_type": "stream",
     "text": [
      "Number is 7\n"
     ]
    }
   ],
   "source": [
    "a=7\n",
    "println(\"Number is $a\")"
   ]
  },
  {
   "cell_type": "code",
   "execution_count": 25,
   "metadata": {},
   "outputs": [
    {
     "name": "stdout",
     "output_type": "stream",
     "text": [
      "stdin> 87433\n"
     ]
    },
    {
     "data": {
      "text/plain": [
       "87433.0"
      ]
     },
     "execution_count": 25,
     "metadata": {},
     "output_type": "execute_result"
    }
   ],
   "source": [
    "parse(Float64,readline(STDIN)) # STDIN takes input in form of a string"
   ]
  },
  {
   "cell_type": "code",
   "execution_count": 26,
   "metadata": {},
   "outputs": [
    {
     "name": "stdout",
     "output_type": "stream",
     "text": [
      "search: \u001b[1mr\u001b[22m\u001b[1me\u001b[22m\u001b[1mt\u001b[22m\u001b[1mu\u001b[22m\u001b[1mr\u001b[22m\u001b[1mn\u001b[22m\n",
      "\n"
     ]
    },
    {
     "data": {
      "text/markdown": [
       "`return` can be used function bodies to exit early and return a given value, e.g.\n",
       "\n",
       "```\n",
       "function compare(a, b)\n",
       "    a == b && return \"equal to\"\n",
       "    a < b ? \"less than\" : \"greater than\"\n",
       "end\n",
       "```\n",
       "\n",
       "In general you can place a `return` statement anywhere within a function body, including within deeply nested loops or conditionals, but be careful with `do` blocks. For example:\n",
       "\n",
       "```\n",
       "function test1(xs)\n",
       "    for x in xs\n",
       "        iseven(x) && return 2x\n",
       "    end\n",
       "end\n",
       "\n",
       "function test2(xs)\n",
       "    map(xs) do x\n",
       "        iseven(x) && return 2x\n",
       "        x\n",
       "    end\n",
       "end\n",
       "```\n",
       "\n",
       "In the first example, the return breaks out of its enclosing function as soon as it hits an even number, so `test1([5,6,7])` returns `12`.\n",
       "\n",
       "You might expect the second example to behave the same way, but in fact the `return` there only breaks out of the *inner* function (inside the `do` block) and gives a value back to `map`. `test2([5,6,7])` then returns `[5,12,7]`.\n"
      ],
      "text/plain": [
       "`return` can be used function bodies to exit early and return a given value, e.g.\n",
       "\n",
       "```\n",
       "function compare(a, b)\n",
       "    a == b && return \"equal to\"\n",
       "    a < b ? \"less than\" : \"greater than\"\n",
       "end\n",
       "```\n",
       "\n",
       "In general you can place a `return` statement anywhere within a function body, including within deeply nested loops or conditionals, but be careful with `do` blocks. For example:\n",
       "\n",
       "```\n",
       "function test1(xs)\n",
       "    for x in xs\n",
       "        iseven(x) && return 2x\n",
       "    end\n",
       "end\n",
       "\n",
       "function test2(xs)\n",
       "    map(xs) do x\n",
       "        iseven(x) && return 2x\n",
       "        x\n",
       "    end\n",
       "end\n",
       "```\n",
       "\n",
       "In the first example, the return breaks out of its enclosing function as soon as it hits an even number, so `test1([5,6,7])` returns `12`.\n",
       "\n",
       "You might expect the second example to behave the same way, but in fact the `return` there only breaks out of the *inner* function (inside the `do` block) and gives a value back to `map`. `test2([5,6,7])` then returns `[5,12,7]`.\n"
      ]
     },
     "execution_count": 26,
     "metadata": {},
     "output_type": "execute_result"
    }
   ],
   "source": [
    "? return"
   ]
  },
  {
   "cell_type": "code",
   "execution_count": 27,
   "metadata": {},
   "outputs": [
    {
     "data": {
      "text/plain": [
       "9.0"
      ]
     },
     "execution_count": 27,
     "metadata": {},
     "output_type": "execute_result"
    }
   ],
   "source": [
    "60\\540"
   ]
  },
  {
   "cell_type": "code",
   "execution_count": 28,
   "metadata": {},
   "outputs": [
    {
     "data": {
      "text/plain": [
       "Array{Float64,1}"
      ]
     },
     "execution_count": 28,
     "metadata": {},
     "output_type": "execute_result"
    }
   ],
   "source": [
    "typeof([1,7.2])"
   ]
  },
  {
   "cell_type": "code",
   "execution_count": 29,
   "metadata": {},
   "outputs": [
    {
     "data": {
      "text/plain": [
       "Array{Any,1}"
      ]
     },
     "execution_count": 29,
     "metadata": {},
     "output_type": "execute_result"
    }
   ],
   "source": [
    "typeof([2,\"aw\"]) #Gets converted to nearest common supertype."
   ]
  }
 ],
 "metadata": {
  "kernelspec": {
   "display_name": "Julia 0.6.4",
   "language": "julia",
   "name": "julia-0.6"
  },
  "language_info": {
   "file_extension": ".jl",
   "mimetype": "application/julia",
   "name": "julia",
   "version": "0.6.4"
  }
 },
 "nbformat": 4,
 "nbformat_minor": 2
}
